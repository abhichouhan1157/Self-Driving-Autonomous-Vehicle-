{
 "cells": [
  {
   "cell_type": "code",
   "execution_count": 26,
   "id": "4f1c7806",
   "metadata": {},
   "outputs": [],
   "source": [
    "import tensorflow.compat.v1 as tf\n",
    "tf.disable_v2_behavior()\n",
    "import scipy\n"
   ]
  },
  {
   "cell_type": "code",
   "execution_count": 27,
   "id": "92415f16",
   "metadata": {},
   "outputs": [],
   "source": [
    "\n",
    "def weight_variable(shape):\n",
    "  initial = tf.truncated_normal(shape, stddev=0.1)\n",
    "  return tf.Variable(initial)\n",
    "\n",
    "def bias_variable(shape):\n",
    "  initial = tf.constant(0.1, shape=shape)\n",
    "  return tf.Variable(initial)\n",
    "\n",
    "def conv2d(x, W, stride):\n",
    "  return tf.nn.conv2d(x, W, strides=[1, stride, stride, 1], padding='VALID')\n"
   ]
  },
  {
   "cell_type": "code",
   "execution_count": 28,
   "id": "07691953",
   "metadata": {},
   "outputs": [],
   "source": [
    "x = tf.placeholder(tf.float32, shape=[None, 66, 200, 3])\n",
    "y_ = tf.placeholder(tf.float32, shape=[None, 1])\n",
    "\n",
    "x_image = x"
   ]
  },
  {
   "cell_type": "code",
   "execution_count": 29,
   "id": "e4832d2c",
   "metadata": {},
   "outputs": [],
   "source": [
    "#first convolutional layer\n",
    "W_conv1 = weight_variable([5, 5, 3, 24])\n",
    "b_conv1 = bias_variable([24])"
   ]
  },
  {
   "cell_type": "code",
   "execution_count": 30,
   "id": "82ad8192",
   "metadata": {},
   "outputs": [],
   "source": [
    "\n",
    "h_conv1 = tf.nn.relu(conv2d(x_image, W_conv1, 2) + b_conv1)"
   ]
  },
  {
   "cell_type": "code",
   "execution_count": 31,
   "id": "ec30461a",
   "metadata": {},
   "outputs": [
    {
     "data": {
      "text/plain": [
       "<tf.Tensor 'Relu_9:0' shape=(?, 31, 98, 24) dtype=float32>"
      ]
     },
     "execution_count": 31,
     "metadata": {},
     "output_type": "execute_result"
    }
   ],
   "source": [
    "h_conv1"
   ]
  },
  {
   "cell_type": "code",
   "execution_count": 32,
   "id": "8cf80857",
   "metadata": {},
   "outputs": [],
   "source": [
    "\n",
    "#second convolutional layer\n",
    "W_conv2 = weight_variable([5, 5, 24, 36])\n",
    "b_conv2 = bias_variable([36])\n"
   ]
  },
  {
   "cell_type": "code",
   "execution_count": 33,
   "id": "7ff5994c",
   "metadata": {},
   "outputs": [],
   "source": [
    "\n",
    "h_conv2 = tf.nn.relu(conv2d(h_conv1, W_conv2, 2) + b_conv2)"
   ]
  },
  {
   "cell_type": "code",
   "execution_count": 34,
   "id": "3529c1c3",
   "metadata": {},
   "outputs": [
    {
     "data": {
      "text/plain": [
       "<tf.Tensor 'Relu_10:0' shape=(?, 14, 47, 36) dtype=float32>"
      ]
     },
     "execution_count": 34,
     "metadata": {},
     "output_type": "execute_result"
    }
   ],
   "source": [
    "h_conv2"
   ]
  },
  {
   "cell_type": "code",
   "execution_count": 35,
   "id": "90738af4",
   "metadata": {},
   "outputs": [],
   "source": [
    "\n",
    "#third convolutional layer\n",
    "W_conv3 = weight_variable([5, 5, 36, 48])\n",
    "b_conv3 = bias_variable([48])\n",
    "\n",
    "h_conv3 = tf.nn.relu(conv2d(h_conv2, W_conv3, 2) + b_conv3)"
   ]
  },
  {
   "cell_type": "code",
   "execution_count": 36,
   "id": "9d32c8e2",
   "metadata": {},
   "outputs": [
    {
     "data": {
      "text/plain": [
       "<tf.Tensor 'Relu_11:0' shape=(?, 5, 22, 48) dtype=float32>"
      ]
     },
     "execution_count": 36,
     "metadata": {},
     "output_type": "execute_result"
    }
   ],
   "source": [
    "h_conv3"
   ]
  },
  {
   "cell_type": "code",
   "execution_count": 37,
   "id": "0a31f76d",
   "metadata": {},
   "outputs": [],
   "source": [
    "\n",
    "#fourth convolutional layer\n",
    "W_conv4 = weight_variable([3, 3, 48, 64])\n",
    "b_conv4 = bias_variable([64])\n",
    "\n",
    "h_conv4 = tf.nn.relu(conv2d(h_conv3, W_conv4, 1) + b_conv4)"
   ]
  },
  {
   "cell_type": "code",
   "execution_count": 38,
   "id": "35ddb053",
   "metadata": {},
   "outputs": [
    {
     "data": {
      "text/plain": [
       "<tf.Tensor 'Relu_12:0' shape=(?, 3, 20, 64) dtype=float32>"
      ]
     },
     "execution_count": 38,
     "metadata": {},
     "output_type": "execute_result"
    }
   ],
   "source": [
    "h_conv4"
   ]
  },
  {
   "cell_type": "code",
   "execution_count": 39,
   "id": "8fd78fa2",
   "metadata": {},
   "outputs": [],
   "source": [
    "\n",
    "#fifth convolutional layer\n",
    "W_conv5 = weight_variable([3, 3, 64, 64])\n",
    "b_conv5 = bias_variable([64])\n",
    "\n",
    "h_conv5 = tf.nn.relu(conv2d(h_conv4, W_conv5, 1) + b_conv5)"
   ]
  },
  {
   "cell_type": "code",
   "execution_count": 40,
   "id": "4b752a66",
   "metadata": {},
   "outputs": [
    {
     "data": {
      "text/plain": [
       "<tf.Tensor 'Relu_13:0' shape=(?, 1, 18, 64) dtype=float32>"
      ]
     },
     "execution_count": 40,
     "metadata": {},
     "output_type": "execute_result"
    }
   ],
   "source": [
    "h_conv5"
   ]
  },
  {
   "cell_type": "code",
   "execution_count": 41,
   "id": "a3c39f98",
   "metadata": {},
   "outputs": [],
   "source": [
    "\n",
    "#FCL 1\n",
    "W_fc1 = weight_variable([1152, 1164])\n",
    "b_fc1 = bias_variable([1164])\n",
    "\n",
    "h_conv5_flat = tf.reshape(h_conv5, [-1, 1152])\n",
    "h_fc1 = tf.nn.relu(tf.matmul(h_conv5_flat, W_fc1) + b_fc1)"
   ]
  },
  {
   "cell_type": "code",
   "execution_count": 42,
   "id": "493f651d",
   "metadata": {},
   "outputs": [],
   "source": [
    "\n",
    "keep_prob = tf.placeholder(tf.float32)\n",
    "h_fc1_drop = tf.nn.dropout(h_fc1, keep_prob)\n"
   ]
  },
  {
   "cell_type": "code",
   "execution_count": 43,
   "id": "f83a436a",
   "metadata": {},
   "outputs": [
    {
     "data": {
      "text/plain": [
       "<tf.Tensor 'dropout_4/Mul:0' shape=(?, 1164) dtype=float32>"
      ]
     },
     "execution_count": 43,
     "metadata": {},
     "output_type": "execute_result"
    }
   ],
   "source": [
    "h_fc1_drop"
   ]
  },
  {
   "cell_type": "code",
   "execution_count": 44,
   "id": "554f16ff",
   "metadata": {},
   "outputs": [],
   "source": [
    "#FCL 2\n",
    "W_fc2 = weight_variable([1164, 100])\n",
    "b_fc2 = bias_variable([100])\n",
    "\n",
    "h_fc2 = tf.nn.relu(tf.matmul(h_fc1_drop, W_fc2) + b_fc2)\n",
    "\n",
    "h_fc2_drop = tf.nn.dropout(h_fc2, keep_prob)"
   ]
  },
  {
   "cell_type": "code",
   "execution_count": 45,
   "id": "6950afd9",
   "metadata": {},
   "outputs": [],
   "source": [
    "#FCL 3\n",
    "W_fc3 = weight_variable([100, 50])\n",
    "b_fc3 = bias_variable([50])\n",
    "\n",
    "h_fc3 = tf.nn.relu(tf.matmul(h_fc2_drop, W_fc3) + b_fc3)\n",
    "\n",
    "h_fc3_drop = tf.nn.dropout(h_fc3, keep_prob)"
   ]
  },
  {
   "cell_type": "code",
   "execution_count": 46,
   "id": "35015702",
   "metadata": {},
   "outputs": [],
   "source": [
    "#FCL 4\n",
    "W_fc4 = weight_variable([50, 10])\n",
    "b_fc4 = bias_variable([10])\n",
    "\n",
    "h_fc4 = tf.nn.relu(tf.matmul(h_fc3_drop, W_fc4) + b_fc4)\n",
    "\n",
    "h_fc4_drop = tf.nn.dropout(h_fc4, keep_prob)"
   ]
  },
  {
   "cell_type": "code",
   "execution_count": 47,
   "id": "5717ab42",
   "metadata": {},
   "outputs": [],
   "source": [
    "#Output\n",
    "W_fc5 = weight_variable([10, 1])\n",
    "b_fc5 = bias_variable([1])\n",
    "\n",
    "y = tf.multiply(tf.atan(tf.matmul(h_fc4_drop, W_fc5) + b_fc5), 2)\n",
    "#scale the atan output\n"
   ]
  },
  {
   "cell_type": "code",
   "execution_count": 48,
   "id": "e2411464",
   "metadata": {},
   "outputs": [
    {
     "data": {
      "text/plain": [
       "<tf.Tensor 'Mul_1:0' shape=(?, 1) dtype=float32>"
      ]
     },
     "execution_count": 48,
     "metadata": {},
     "output_type": "execute_result"
    }
   ],
   "source": [
    "y"
   ]
  },
  {
   "cell_type": "code",
   "execution_count": 49,
   "id": "4f104a2b",
   "metadata": {},
   "outputs": [
    {
     "data": {
      "text/plain": [
       "<tf.Variable 'Variable_39:0' shape=(1,) dtype=float32_ref>"
      ]
     },
     "execution_count": 49,
     "metadata": {},
     "output_type": "execute_result"
    }
   ],
   "source": [
    "b_fc5"
   ]
  },
  {
   "cell_type": "code",
   "execution_count": 50,
   "id": "b84326c1",
   "metadata": {},
   "outputs": [
    {
     "data": {
      "text/plain": [
       "<tf.Variable 'Variable_38:0' shape=(10, 1) dtype=float32_ref>"
      ]
     },
     "execution_count": 50,
     "metadata": {},
     "output_type": "execute_result"
    }
   ],
   "source": [
    "W_fc5"
   ]
  },
  {
   "cell_type": "code",
   "execution_count": null,
   "id": "d352ca86",
   "metadata": {},
   "outputs": [],
   "source": []
  },
  {
   "cell_type": "code",
   "execution_count": null,
   "id": "c3683eb0",
   "metadata": {},
   "outputs": [],
   "source": []
  }
 ],
 "metadata": {
  "kernelspec": {
   "display_name": "Python 3 (ipykernel)",
   "language": "python",
   "name": "python3"
  },
  "language_info": {
   "codemirror_mode": {
    "name": "ipython",
    "version": 3
   },
   "file_extension": ".py",
   "mimetype": "text/x-python",
   "name": "python",
   "nbconvert_exporter": "python",
   "pygments_lexer": "ipython3",
   "version": "3.9.7"
  }
 },
 "nbformat": 4,
 "nbformat_minor": 5
}
