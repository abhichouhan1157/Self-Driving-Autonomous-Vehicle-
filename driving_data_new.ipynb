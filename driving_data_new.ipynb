{
 "cells": [
  {
   "cell_type": "code",
   "execution_count": 1,
   "id": "9a1dec48",
   "metadata": {},
   "outputs": [],
   "source": [
    "import scipy.misc\n",
    "import random"
   ]
  },
  {
   "cell_type": "code",
   "execution_count": 2,
   "id": "c8064b43",
   "metadata": {},
   "outputs": [],
   "source": [
    "import skimage.transform"
   ]
  },
  {
   "cell_type": "code",
   "execution_count": 3,
   "id": "a24eba56",
   "metadata": {},
   "outputs": [],
   "source": [
    "import skimage.io"
   ]
  },
  {
   "cell_type": "code",
   "execution_count": 4,
   "id": "4446cc60",
   "metadata": {},
   "outputs": [],
   "source": [
    "\n",
    "# coordinates\n",
    "xs, ys = [], []"
   ]
  },
  {
   "cell_type": "code",
   "execution_count": 5,
   "id": "b00c7a2d",
   "metadata": {},
   "outputs": [],
   "source": [
    "# points to the end of the last batch\n",
    "train_batch_pointer, val_batch_pointer = 0, 0"
   ]
  },
  {
   "cell_type": "code",
   "execution_count": 6,
   "id": "26a63a35",
   "metadata": {},
   "outputs": [],
   "source": [
    "# read data.txt (file with brake or throttle or steering angle & frame number)\n",
    "with open(\"driving_dataset/data.txt\") as f:\n",
    "    for line in f:\n",
    "        xs.append(\"driving_dataset/\" + line.split()[0])\n",
    "        # the paper by Nvidia uses the inverse of the turning radius,\n",
    "        # but steering wheel angle is proportional to the inverse of turning\n",
    "        # radius so the steering wheel angle in radians is used as the output\n",
    "        ys.append(float(line.split()[1]) * scipy.pi / 180)\n"
   ]
  },
  {
   "cell_type": "code",
   "execution_count": 7,
   "id": "fbf35b03",
   "metadata": {},
   "outputs": [],
   "source": [
    "# get number of frames & shuffle list\n",
    "num_images = len(xs)\n",
    "c = list(zip(xs, ys))\n",
    "random.shuffle(c)\n",
    "xs, ys = zip(*c)"
   ]
  },
  {
   "cell_type": "code",
   "execution_count": 8,
   "id": "38b5bbb9",
   "metadata": {},
   "outputs": [
    {
     "data": {
      "text/plain": [
       "45406"
      ]
     },
     "execution_count": 8,
     "metadata": {},
     "output_type": "execute_result"
    }
   ],
   "source": [
    "num_images"
   ]
  },
  {
   "cell_type": "code",
   "execution_count": 9,
   "id": "289c59b2",
   "metadata": {},
   "outputs": [],
   "source": [
    "# split dataset into training and testing sets\n",
    "# training\n",
    "train_xs = xs[:int(len(xs) * 0.8)]\n",
    "train_ys = ys[:int(len(xs) * 0.8)]\n",
    "# testing\n",
    "val_xs = xs[-int(len(xs) * 0.2):]\n",
    "val_ys = ys[-int(len(xs) * 0.2):]"
   ]
  },
  {
   "cell_type": "code",
   "execution_count": 10,
   "id": "056db911",
   "metadata": {},
   "outputs": [],
   "source": [
    "\n",
    "# number of frames in each set\n",
    "num_train_images = len(train_xs)\n",
    "num_val_images = len(val_xs)"
   ]
  },
  {
   "cell_type": "code",
   "execution_count": 11,
   "id": "0732621e",
   "metadata": {},
   "outputs": [],
   "source": [
    "# load training batch\n",
    "def LoadTrainBatch(batch_size):\n",
    "    global train_batch_pointer\n",
    "    x_out, y_out = [], []\n",
    "    for i in range(0, batch_size):\n",
    "        x_out.append(skimage.transform.resize(skimage.io.imread(train_xs[(train_batch_pointer + i) % num_train_images])[-150:], [66, 200]) / 255.0)\n",
    "        y_out.append([train_ys[(train_batch_pointer + i) % num_train_images]])\n",
    "    train_batch_pointer += batch_size\n",
    "    return x_out, y_out"
   ]
  },
  {
   "cell_type": "code",
   "execution_count": 12,
   "id": "db82d4cb",
   "metadata": {},
   "outputs": [],
   "source": [
    "# load testing batch\n",
    "def LoadValBatch(batch_size):\n",
    "    global val_batch_pointer\n",
    "    x_out, y_out = [], []\n",
    "    for i in range(0, batch_size):\n",
    "        x_out.append(skimage.transform.resize(skimage.io.imread(val_xs[(val_batch_pointer + i) % num_val_images])[-150:], [66, 200]) / 255.0)\n",
    "        y_out.append([val_ys[(val_batch_pointer + i) % num_val_images]])\n",
    "    val_batch_pointer += batch_size\n",
    "    return x_out, y_out"
   ]
  },
  {
   "cell_type": "code",
   "execution_count": null,
   "id": "374f13cd",
   "metadata": {},
   "outputs": [],
   "source": []
  }
 ],
 "metadata": {
  "kernelspec": {
   "display_name": "Python 3 (ipykernel)",
   "language": "python",
   "name": "python3"
  },
  "language_info": {
   "codemirror_mode": {
    "name": "ipython",
    "version": 3
   },
   "file_extension": ".py",
   "mimetype": "text/x-python",
   "name": "python",
   "nbconvert_exporter": "python",
   "pygments_lexer": "ipython3",
   "version": "3.9.7"
  }
 },
 "nbformat": 4,
 "nbformat_minor": 5
}
